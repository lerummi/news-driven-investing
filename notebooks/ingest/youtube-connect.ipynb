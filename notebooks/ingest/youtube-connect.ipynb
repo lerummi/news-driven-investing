{
 "cells": [
  {
   "cell_type": "markdown",
   "id": "5278da78-a5e8-43ec-9105-bc4b7140c9a5",
   "metadata": {},
   "source": [
    "# Test retrieve youtube activities"
   ]
  },
  {
   "cell_type": "code",
   "execution_count": null,
   "id": "21a8f01d-7e68-440d-b217-0a3e9447c323",
   "metadata": {},
   "outputs": [],
   "source": [
    "from datetime import datetime, timedelta\n",
    "from news_driven_investing.utils import youtube"
   ]
  },
  {
   "cell_type": "code",
   "execution_count": null,
   "id": "3fae9c6a-b465-4018-a760-32972e3a2ab8",
   "metadata": {},
   "outputs": [],
   "source": [
    "end_date = datetime.now()\n",
    "start_date = datetime.now() - timedelta(days=7)"
   ]
  },
  {
   "cell_type": "code",
   "execution_count": null,
   "id": "e93447ec-26cc-4715-8401-6e5a6857a818",
   "metadata": {},
   "outputs": [],
   "source": [
    "response = youtube.request_activities_for_channel(\"UCIALMKvObZNtJ6AmdCLP7Lg\", start_date, end_date)"
   ]
  },
  {
   "cell_type": "code",
   "execution_count": null,
   "id": "e14c563d-f81e-4845-970f-98ae769dece7",
   "metadata": {
    "scrolled": true
   },
   "outputs": [],
   "source": [
    "items = response.json()[\"items\"]\n",
    "items"
   ]
  },
  {
   "cell_type": "code",
   "execution_count": null,
   "id": "5045c1e4-9da9-454f-a76a-bb46b2eacc55",
   "metadata": {},
   "outputs": [],
   "source": [
    "import pandas"
   ]
  },
  {
   "cell_type": "code",
   "execution_count": null,
   "id": "105c93b9-4ecd-4674-b133-14d7466d3e0c",
   "metadata": {},
   "outputs": [],
   "source": [
    "pandas.json_normalize(items).shape"
   ]
  },
  {
   "cell_type": "code",
   "execution_count": null,
   "id": "71384cb0-8463-4a2d-8590-f565045d6e18",
   "metadata": {},
   "outputs": [],
   "source": [
    "50 / 7 * 10 * 365"
   ]
  },
  {
   "cell_type": "code",
   "execution_count": null,
   "id": "00ea0d5d-6bfc-4755-8366-ee145499238b",
   "metadata": {},
   "outputs": [],
   "source": []
  }
 ],
 "metadata": {
  "kernelspec": {
   "display_name": "Python 3 (ipykernel)",
   "language": "python",
   "name": "python3"
  },
  "language_info": {
   "codemirror_mode": {
    "name": "ipython",
    "version": 3
   },
   "file_extension": ".py",
   "mimetype": "text/x-python",
   "name": "python",
   "nbconvert_exporter": "python",
   "pygments_lexer": "ipython3",
   "version": "3.11.4"
  }
 },
 "nbformat": 4,
 "nbformat_minor": 5
}
