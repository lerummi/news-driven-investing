{
 "cells": [
  {
   "cell_type": "code",
   "execution_count": null,
   "id": "4609f10c-692c-40dc-a64a-fa9f5c8846b6",
   "metadata": {},
   "outputs": [],
   "source": [
    "import os\n",
    "import pandas\n",
    "from pathlib import Path"
   ]
  },
  {
   "cell_type": "code",
   "execution_count": null,
   "id": "90a54cf5-27dc-45e3-8172-e7930228f751",
   "metadata": {},
   "outputs": [],
   "source": [
    "video_properties_storage = Path(os.environ[\"DATA_DIR\"]) / \"storage\" / \"video_properties_dataframe\""
   ]
  },
  {
   "cell_type": "code",
   "execution_count": null,
   "id": "adb3ddd6-1233-4d74-99df-8c5858c3f935",
   "metadata": {},
   "outputs": [],
   "source": [
    "X = []\n",
    "for file in os.listdir(video_properties_storage):\n",
    "    X.append(\n",
    "        pandas.read_parquet(video_properties_storage / file)\n",
    "    )\n",
    "X = pandas.concat(X, axis=0)"
   ]
  },
  {
   "cell_type": "code",
   "execution_count": null,
   "id": "04d948ec-eae0-4afe-ab0c-72ef40befc01",
   "metadata": {},
   "outputs": [],
   "source": [
    "X[X[\"snippet.channelId\"].str.endswith(\"2FJQ\")][\"id.videoId\"]"
   ]
  },
  {
   "cell_type": "code",
   "execution_count": null,
   "id": "c5a0dfbc-62cd-4d94-9e51-e503e357ab8c",
   "metadata": {},
   "outputs": [],
   "source": [
    "from youtube_transcript_api import YouTubeTranscriptApi"
   ]
  },
  {
   "cell_type": "code",
   "execution_count": null,
   "id": "3e248b40-344d-4eb3-aa55-e9ac6472ca40",
   "metadata": {},
   "outputs": [],
   "source": [
    "t = YouTubeTranscriptApi.get_transcript(X[\"id.videoId\"].iloc[2])"
   ]
  },
  {
   "cell_type": "code",
   "execution_count": null,
   "id": "e6612710-c711-48bd-82d6-23143447de98",
   "metadata": {
    "scrolled": true
   },
   "outputs": [],
   "source": [
    "\" \".join(map(lambda x: x[\"text\"], t))"
   ]
  },
  {
   "cell_type": "code",
   "execution_count": null,
   "id": "33c2b64e-416f-4c1c-a484-7b25ae41f133",
   "metadata": {},
   "outputs": [],
   "source": []
  }
 ],
 "metadata": {
  "kernelspec": {
   "display_name": "Python 3 (ipykernel)",
   "language": "python",
   "name": "python3"
  },
  "language_info": {
   "codemirror_mode": {
    "name": "ipython",
    "version": 3
   },
   "file_extension": ".py",
   "mimetype": "text/x-python",
   "name": "python",
   "nbconvert_exporter": "python",
   "pygments_lexer": "ipython3",
   "version": "3.11.4"
  }
 },
 "nbformat": 4,
 "nbformat_minor": 5
}
