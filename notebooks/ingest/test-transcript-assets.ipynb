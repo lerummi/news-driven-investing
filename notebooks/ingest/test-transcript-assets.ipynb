{
 "cells": [
  {
   "cell_type": "markdown",
   "id": "ed59e756-9d2a-4a77-ada9-30215d4f48e3",
   "metadata": {},
   "source": [
    "# Verify transcript assets functionality"
   ]
  },
  {
   "cell_type": "code",
   "execution_count": null,
   "id": "17051c35-d1c3-4197-a0c8-9cadcd6e562d",
   "metadata": {},
   "outputs": [],
   "source": [
    "import os\n",
    "import pandas\n",
    "from pathlib import Path"
   ]
  },
  {
   "cell_type": "code",
   "execution_count": null,
   "id": "46db7e18-81fa-4ab3-8dc4-5b78ac25cb7b",
   "metadata": {},
   "outputs": [],
   "source": [
    "video_transcript_dir = Path(os.environ[\"DATA_DIR\"]) / \"storage\" / \"video_transcript\""
   ]
  },
  {
   "cell_type": "code",
   "execution_count": null,
   "id": "4cfbb4ab-6eb3-4e2d-949e-70bce7e5c183",
   "metadata": {},
   "outputs": [],
   "source": [
    "data = pandas.concat(\n",
    "    [\n",
    "        pandas.read_parquet(file) \n",
    "        for file in video_transcript_dir.glob(\"**/*.parquet\")\n",
    "    ],\n",
    "    axis=0,\n",
    "    ignore_index=True\n",
    ")"
   ]
  },
  {
   "cell_type": "code",
   "execution_count": null,
   "id": "bf5a48f1-b9d8-4b6b-81be-baba9cfe2e1c",
   "metadata": {},
   "outputs": [],
   "source": [
    "data[\"snippet.channelId\"].value_counts()"
   ]
  },
  {
   "cell_type": "code",
   "execution_count": null,
   "id": "42112a5a-4080-437f-98c0-cb5adf138d33",
   "metadata": {},
   "outputs": [],
   "source": []
  }
 ],
 "metadata": {
  "kernelspec": {
   "display_name": "Python 3 (ipykernel)",
   "language": "python",
   "name": "python3"
  },
  "language_info": {
   "codemirror_mode": {
    "name": "ipython",
    "version": 3
   },
   "file_extension": ".py",
   "mimetype": "text/x-python",
   "name": "python",
   "nbconvert_exporter": "python",
   "pygments_lexer": "ipython3",
   "version": "3.11.4"
  }
 },
 "nbformat": 4,
 "nbformat_minor": 5
}
