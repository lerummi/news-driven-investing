{
 "cells": [
  {
   "cell_type": "markdown",
   "id": "3088a595-a615-4cbb-9102-1d1001398ae8",
   "metadata": {},
   "source": [
    "# Alpha Vantage Traiding data"
   ]
  },
  {
   "cell_type": "code",
   "execution_count": null,
   "id": "0e3819ba-4dba-4c20-abd2-0ef2c8b82816",
   "metadata": {},
   "outputs": [],
   "source": [
    "import requests\n",
    "import pandas\n",
    "from news_driven_investing.config.settings import settings\n",
    "from news_driven_investing.utils import alpha_vantage"
   ]
  },
  {
   "cell_type": "code",
   "execution_count": null,
   "id": "672c5c1d-7755-4d91-a04c-d25015b71eb9",
   "metadata": {
    "scrolled": true
   },
   "outputs": [],
   "source": [
    "response = alpha_vantage.request_daily_prices(\n",
    "        \"GOOGL\",\n",
    "        start_date=settings.START_DATE\n",
    "    )"
   ]
  },
  {
   "cell_type": "code",
   "execution_count": null,
   "id": "a16b777c-385a-4aa8-9625-753321809751",
   "metadata": {},
   "outputs": [],
   "source": [
    "result = pandas.DataFrame.from_dict(\n",
    "        response.json()[\"Time Series (Daily)\"],\n",
    "        orient=\"index\"\n",
    "    ).reset_index(names=[\"date\"])"
   ]
  },
  {
   "cell_type": "code",
   "execution_count": null,
   "id": "02b8f7a1-1d92-486d-a986-b8c68bfca8e8",
   "metadata": {},
   "outputs": [],
   "source": [
    "result.query(f\"date >= '{settings.START_DATE}'\")"
   ]
  },
  {
   "cell_type": "code",
   "execution_count": null,
   "id": "24bf82b4-acd8-4b53-889d-c34ccbf1efba",
   "metadata": {},
   "outputs": [],
   "source": []
  }
 ],
 "metadata": {
  "kernelspec": {
   "display_name": "Python 3 (ipykernel)",
   "language": "python",
   "name": "python3"
  },
  "language_info": {
   "codemirror_mode": {
    "name": "ipython",
    "version": 3
   },
   "file_extension": ".py",
   "mimetype": "text/x-python",
   "name": "python",
   "nbconvert_exporter": "python",
   "pygments_lexer": "ipython3",
   "version": "3.11.4"
  }
 },
 "nbformat": 4,
 "nbformat_minor": 5
}
