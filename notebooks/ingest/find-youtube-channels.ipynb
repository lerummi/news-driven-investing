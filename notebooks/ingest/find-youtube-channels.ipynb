{
 "cells": [
  {
   "cell_type": "markdown",
   "id": "7baa3f10-d28f-4c81-b5ce-c9ae0edf8466",
   "metadata": {},
   "source": [
    "# Find youtube news channels\n",
    "\n",
    "Request youtube api to find channel ids from video queries."
   ]
  },
  {
   "cell_type": "code",
   "execution_count": null,
   "id": "809e9cbd-9851-42bb-bbe0-9e4cf47e0869",
   "metadata": {},
   "outputs": [],
   "source": [
    "import os\n",
    "import requests"
   ]
  },
  {
   "cell_type": "code",
   "execution_count": null,
   "id": "2c8593f6-3a7d-4810-b487-722b77f43032",
   "metadata": {},
   "outputs": [],
   "source": [
    "channels = [\"CNN\", \"MSNBC\", \"Bloomberg\", \"NBC\", \"Fox\", \"ABC News\", \"CNBC\", \"Yahoo Finance\", \"Cheddar\", \"CGTN America\"]"
   ]
  },
  {
   "cell_type": "code",
   "execution_count": null,
   "id": "706249d5-ed71-4fbc-8e8f-5f94f0490991",
   "metadata": {},
   "outputs": [],
   "source": [
    "url = os.environ[\"YOUTUBE_API_ROOT\"] + \"search\"\n",
    "params = {\n",
    "    \"part\": \"snippet\", \n",
    "    \"type\": \"channel\", \n",
    "    \"q\": channels[-1]\n",
    "}"
   ]
  },
  {
   "cell_type": "code",
   "execution_count": null,
   "id": "db7ff6ed-a596-4e3b-a5b6-00b82fbfe240",
   "metadata": {},
   "outputs": [],
   "source": [
    "response = requests.get(url, params=params)\n",
    "data = response.json()\n",
    "data"
   ]
  },
  {
   "cell_type": "code",
   "execution_count": null,
   "id": "9977abc4-0725-4535-b7a7-c80960833a90",
   "metadata": {},
   "outputs": [],
   "source": []
  }
 ],
 "metadata": {
  "kernelspec": {
   "display_name": "Python 3 (ipykernel)",
   "language": "python",
   "name": "python3"
  },
  "language_info": {
   "codemirror_mode": {
    "name": "ipython",
    "version": 3
   },
   "file_extension": ".py",
   "mimetype": "text/x-python",
   "name": "python",
   "nbconvert_exporter": "python",
   "pygments_lexer": "ipython3",
   "version": "3.11.4"
  }
 },
 "nbformat": 4,
 "nbformat_minor": 5
}
