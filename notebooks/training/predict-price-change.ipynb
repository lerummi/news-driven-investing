{
 "cells": [
  {
   "cell_type": "markdown",
   "id": "86292973-c761-4b53-b753-2357f43eeeac",
   "metadata": {},
   "source": [
    "# Basic Training Notebook"
   ]
  },
  {
   "cell_type": "code",
   "execution_count": null,
   "id": "9b4ada99-833c-4c88-bf9e-e98d94e93e34",
   "metadata": {},
   "outputs": [],
   "source": [
    "import os\n",
    "import pandas\n",
    "import mlflow\n",
    "import dateutil\n",
    "import datetime\n",
    "import catboost\n",
    "from pathlib import Path\n",
    "\n",
    "from tokenizers import BertWordPieceTokenizer\n",
    "from sklearn.feature_extraction.text import CountVectorizer\n",
    "\n",
    "from news_driven_investing.io import read_partitioned_pandas_asset\n",
    "from news_driven_investing.resources import ENGLISH_STOP_WORDS\n",
    "from news_driven_investing.preprocessing import compute_stock_price_overnight_changes\n",
    "from news_driven_investing.config.settings import settings"
   ]
  },
  {
   "cell_type": "code",
   "execution_count": null,
   "id": "f3b6b9f9-cc3a-4ba9-a6a0-75ac82601930",
   "metadata": {},
   "outputs": [],
   "source": [
    "data = read_partitioned_pandas_asset(\"video_transcript\")\n",
    "data = data[~data[\"transcript\"].fillna(\"Exception\").str.startswith(\"Exception\")]\n",
    "data[\"snippet.channelId\"] = data[\"snippet.channelId\"].replace(\n",
    "    {value: key for key, value in settings.YOUTUBE_CHANNELS.items()}\n",
    ")\n",
    "y = read_partitioned_pandas_asset(\"stock_prices\")"
   ]
  },
  {
   "cell_type": "code",
   "execution_count": null,
   "id": "a26f9697-ff90-4e75-85dc-996dfd2c0e48",
   "metadata": {},
   "outputs": [],
   "source": [
    "analyzer = CountVectorizer(\n",
    "    lowercase=True,\n",
    "    min_df=1e-4,\n",
    "    stop_words=ENGLISH_STOP_WORDS\n",
    ").build_analyzer()"
   ]
  },
  {
   "cell_type": "code",
   "execution_count": null,
   "id": "4c558923-78eb-479b-8201-5884730aeae8",
   "metadata": {},
   "outputs": [],
   "source": [
    "data[\"snippet.title\"] = data[\"snippet.title\"].apply(analyzer).apply(\" \".join)\n",
    "data[\"transcript\"] = data[\"transcript\"].apply(analyzer).apply(\" \".join)"
   ]
  },
  {
   "cell_type": "code",
   "execution_count": null,
   "id": "78c72622-9907-4c9e-82dd-7bf1dcbf0d13",
   "metadata": {},
   "outputs": [],
   "source": [
    "tokenizer = BertWordPieceTokenizer()\n",
    "tokenizer.train_from_iterator(data[\"snippet.title\"] + \" \" + data[\"transcript\"], min_frequency=10)"
   ]
  },
  {
   "cell_type": "code",
   "execution_count": null,
   "id": "6d44b609-2e72-44f2-83ca-525522aa2015",
   "metadata": {},
   "outputs": [],
   "source": [
    "data[\"snippet.title\"] = data[\"snippet.title\"].apply(tokenizer.encode).apply(lambda x: \" \".join(x.tokens))\n",
    "data[\"transcript\"] = data[\"transcript\"].apply(tokenizer.encode).apply(lambda x: \" \".join(x.tokens))"
   ]
  },
  {
   "cell_type": "markdown",
   "id": "15ec2d89-1fa2-4dab-9107-cac38ba1342a",
   "metadata": {},
   "source": [
    "Calculate price change from closing the last day (of trading) to opening the next day (of trading)"
   ]
  },
  {
   "cell_type": "code",
   "execution_count": null,
   "id": "b6034e8f-7a46-4c3a-a763-24b11e580117",
   "metadata": {},
   "outputs": [],
   "source": [
    "y = compute_stock_price_overnight_changes(y)"
   ]
  },
  {
   "cell_type": "code",
   "execution_count": null,
   "id": "22f631a6-924d-42d6-8724-c372901aae45",
   "metadata": {},
   "outputs": [],
   "source": [
    "data[\"snippet.publishedAt\"] = data[\"snippet.publishedAt\"].apply(dateutil.parser.parse)\n",
    "data[\"snippet.publishedAt\"] = data[\"snippet.publishedAt\"].dt.date\n",
    "data[\"snippet.publishedAt\"] = pandas.to_datetime(data[\"snippet.publishedAt\"])"
   ]
  },
  {
   "cell_type": "code",
   "execution_count": null,
   "id": "dfa99da0-3d11-477c-9cb9-77dd74377316",
   "metadata": {
    "scrolled": true
   },
   "outputs": [],
   "source": [
    "data = data.groupby([\"snippet.publishedAt\"], as_index=False)[[\"snippet.title\", \"transcript\"]].agg(\" \".join)"
   ]
  },
  {
   "cell_type": "code",
   "execution_count": null,
   "id": "8636bbc0-5495-448e-ba49-283cefc69e7f",
   "metadata": {},
   "outputs": [],
   "source": [
    "data[\"next_day\"] = data[\"snippet.publishedAt\"] + datetime.timedelta(days=1)"
   ]
  },
  {
   "cell_type": "code",
   "execution_count": null,
   "id": "53c630b1-ec7e-4242-8b7a-21f42c2df76e",
   "metadata": {
    "scrolled": true
   },
   "outputs": [],
   "source": [
    "data = data.merge(y, left_on=\"next_day\", right_on=\"date\", how=\"inner\")"
   ]
  },
  {
   "cell_type": "code",
   "execution_count": null,
   "id": "e716e094-37dd-44f3-9138-5afb8b53fd40",
   "metadata": {},
   "outputs": [],
   "source": [
    "target = \"Microsoft\""
   ]
  },
  {
   "cell_type": "code",
   "execution_count": null,
   "id": "83bc7f9a-905d-4bf7-9c8f-9b67b619c80e",
   "metadata": {},
   "outputs": [],
   "source": [
    "import catboost\n",
    "from sklearn.model_selection import train_test_split"
   ]
  },
  {
   "cell_type": "code",
   "execution_count": null,
   "id": "c494024b-1108-4a97-ac05-8cbd92f22070",
   "metadata": {
    "scrolled": true
   },
   "outputs": [],
   "source": [
    "rgs = catboost.CatBoostRegressor(\n",
    "    iterations=500,\n",
    "    od_type=\"Iter\", \n",
    "    early_stopping_rounds=51,\n",
    "    verbose=50,\n",
    "    learning_rate=0.01\n",
    ")\n",
    "\n",
    "text_features = [\"snippet.title\", \"transcript\"]\n",
    "features = text_features\n",
    "\n",
    "train, test = train_test_split(data, test_size=0.2)\n",
    "test, validate = train_test_split(test, test_size=0.5)\n",
    "\n",
    "train = catboost.Pool(\n",
    "    train[features], \n",
    "    train[target],\n",
    "    text_features=text_features\n",
    ")\n",
    "\n",
    "test = catboost.Pool(\n",
    "    test[features], \n",
    "    test[target],\n",
    "    text_features=text_features\n",
    ")\n",
    "\n",
    "validate = catboost.Pool(\n",
    "    validate[features], \n",
    "    validate[target],\n",
    "    text_features=text_features\n",
    ")"
   ]
  },
  {
   "cell_type": "code",
   "execution_count": null,
   "id": "4ac2f8e6-0838-4197-953a-451444ed8c52",
   "metadata": {
    "scrolled": true
   },
   "outputs": [],
   "source": [
    "rgs.fit(train, eval_set=validate)"
   ]
  },
  {
   "cell_type": "code",
   "execution_count": null,
   "id": "1c67151b-a759-43a2-bb61-52e92af23b57",
   "metadata": {},
   "outputs": [],
   "source": [
    "ypred = rgs.predict(test)"
   ]
  },
  {
   "cell_type": "code",
   "execution_count": null,
   "id": "35617645-798e-470a-ba48-86a107f2394d",
   "metadata": {},
   "outputs": [],
   "source": [
    "from sklearn.metrics import mean_absolute_error\n",
    "\n",
    "mean_absolute_error(ypred, test.get_label())"
   ]
  },
  {
   "cell_type": "code",
   "execution_count": null,
   "id": "ec8a2aa7-70ba-4d6e-8553-e550c96c9ad3",
   "metadata": {},
   "outputs": [],
   "source": [
    "test.shape"
   ]
  },
  {
   "cell_type": "markdown",
   "id": "a5553181-37ad-445c-a6aa-229e44b12802",
   "metadata": {},
   "source": [
    "Baseline performance: Randomly sample"
   ]
  },
  {
   "cell_type": "code",
   "execution_count": null,
   "id": "0aaa6c77-4b92-4185-8b0a-f73d9f9d55b8",
   "metadata": {},
   "outputs": [],
   "source": [
    "from sklearn.dummy import DummyRegressor\n",
    "import numpy as np"
   ]
  },
  {
   "cell_type": "code",
   "execution_count": null,
   "id": "ab47dfc5-5e6e-46ed-b55d-e7c23ea31880",
   "metadata": {},
   "outputs": [],
   "source": [
    "d = DummyRegressor().fit(np.random.random(train.shape), train.get_label())"
   ]
  },
  {
   "cell_type": "code",
   "execution_count": null,
   "id": "dd319737-6675-447a-a74f-d7fddd6e56a1",
   "metadata": {},
   "outputs": [],
   "source": [
    "ypred_base=d.predict(np.random.random(test.shape))"
   ]
  },
  {
   "cell_type": "code",
   "execution_count": null,
   "id": "3fbdd51d-c9e6-44d8-a103-39de03d65c0d",
   "metadata": {},
   "outputs": [],
   "source": [
    "mean_absolute_error(ypred_base, test.get_label())"
   ]
  },
  {
   "cell_type": "code",
   "execution_count": null,
   "id": "339310a2-1ef2-4596-b56b-6296c9339344",
   "metadata": {},
   "outputs": [],
   "source": []
  },
  {
   "cell_type": "code",
   "execution_count": null,
   "id": "edd98348-a373-4a37-9ff0-974b85afd091",
   "metadata": {},
   "outputs": [],
   "source": []
  }
 ],
 "metadata": {
  "kernelspec": {
   "display_name": "Python 3 (ipykernel)",
   "language": "python",
   "name": "python3"
  },
  "language_info": {
   "codemirror_mode": {
    "name": "ipython",
    "version": 3
   },
   "file_extension": ".py",
   "mimetype": "text/x-python",
   "name": "python",
   "nbconvert_exporter": "python",
   "pygments_lexer": "ipython3",
   "version": "3.11.4"
  }
 },
 "nbformat": 4,
 "nbformat_minor": 5
}
