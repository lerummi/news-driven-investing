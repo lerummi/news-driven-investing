{
 "cells": [
  {
   "cell_type": "markdown",
   "id": "86292973-c761-4b53-b753-2357f43eeeac",
   "metadata": {},
   "source": [
    "# Basic Training Notebook"
   ]
  },
  {
   "cell_type": "code",
   "execution_count": null,
   "id": "9b4ada99-833c-4c88-bf9e-e98d94e93e34",
   "metadata": {},
   "outputs": [],
   "source": [
    "import os\n",
    "import pandas\n",
    "import mlflow\n",
    "import catboost\n",
    "import dateutil\n",
    "import datetime\n",
    "from pathlib import Path\n",
    "\n",
    "from tokenizers import BertWordPieceTokenizer\n",
    "from sklearn.feature_extraction.text import CountVectorizer\n",
    "\n",
    "from news_driven_investing.io import read_partitioned_pandas_asset\n",
    "from news_driven_investing.resources import ENGLISH_STOP_WORDS\n",
    "from news_driven_investing.preprocessing import compute_stock_price_overnight_changes\n",
    "from news_driven_investing.config.settings import settings"
   ]
  },
  {
   "cell_type": "code",
   "execution_count": null,
   "id": "f3b6b9f9-cc3a-4ba9-a6a0-75ac82601930",
   "metadata": {},
   "outputs": [],
   "source": [
    "X = read_partitioned_pandas_asset(\"video_transcript\")\n",
    "X = X[~X[\"transcript\"].fillna(\"Exception\").str.startswith(\"Exception\")]\n",
    "X[\"snippet.channelId\"] = X[\"snippet.channelId\"].replace(\n",
    "    {value: key for key, value in settings.YOUTUBE_CHANNELS.items()}\n",
    ")\n",
    "y = read_partitioned_pandas_asset(\"stock_prices\")"
   ]
  },
  {
   "cell_type": "markdown",
   "id": "15ec2d89-1fa2-4dab-9107-cac38ba1342a",
   "metadata": {},
   "source": [
    "Calculate price change from closing the last day (of trading) to opening the next day (of trading)"
   ]
  },
  {
   "cell_type": "code",
   "execution_count": null,
   "id": "b6034e8f-7a46-4c3a-a763-24b11e580117",
   "metadata": {},
   "outputs": [],
   "source": [
    "y = compute_stock_price_overnight_changes(y)"
   ]
  },
  {
   "cell_type": "code",
   "execution_count": null,
   "id": "22f631a6-924d-42d6-8724-c372901aae45",
   "metadata": {},
   "outputs": [],
   "source": [
    "X[\"snippet.publishedAt\"] = X[\"snippet.publishedAt\"].apply(dateutil.parser.parse)\n",
    "X[\"snippet.publishedAt\"] = X[\"snippet.publishedAt\"].dt.date\n",
    "X[\"snippet.publishedAt\"] = pandas.to_datetime(X[\"snippet.publishedAt\"])"
   ]
  },
  {
   "cell_type": "code",
   "execution_count": null,
   "id": "1f689378-3215-41dd-8448-fd62bdbefadf",
   "metadata": {},
   "outputs": [],
   "source": [
    "X = X.sort_values(\"snippet.publishedAt\")"
   ]
  },
  {
   "cell_type": "code",
   "execution_count": null,
   "id": "83bc7f9a-905d-4bf7-9c8f-9b67b619c80e",
   "metadata": {},
   "outputs": [],
   "source": [
    "import catboost\n",
    "from sklearn.model_selection import train_test_split"
   ]
  },
  {
   "cell_type": "code",
   "execution_count": null,
   "id": "7ff36ad3-76b8-459a-ba96-1d860cd9b0bc",
   "metadata": {},
   "outputs": [],
   "source": [
    "target = \"snippet.channelId\""
   ]
  },
  {
   "cell_type": "code",
   "execution_count": null,
   "id": "c494024b-1108-4a97-ac05-8cbd92f22070",
   "metadata": {
    "scrolled": true
   },
   "outputs": [],
   "source": [
    "clf = catboost.CatBoostClassifier(\n",
    "    verbose=20, \n",
    "    od_type=\"Iter\", \n",
    "    early_stopping_rounds=21\n",
    ")\n",
    "\n",
    "train, test = train_test_split(X, test_size=0.2)\n",
    "test, validate = train_test_split(test, test_size=0.5)\n",
    "\n",
    "data_train = catboost.Pool(\n",
    "    train[[\"transcript\", \"snippet.title\"]],\n",
    "    train[target],\n",
    "    text_features=[\"transcript\", \"snippet.title\"]\n",
    ")\n",
    "\n",
    "data_test = catboost.Pool(\n",
    "    test[[\"transcript\", \"snippet.title\"]],\n",
    "    test[target],\n",
    "    text_features=[\"transcript\", \"snippet.title\"]\n",
    ")\n",
    "\n",
    "data_validate = catboost.Pool(\n",
    "    validate[[\"transcript\", \"snippet.title\"]],\n",
    "    validate[target],\n",
    "    text_features=[\"transcript\", \"snippet.title\"]\n",
    ")"
   ]
  },
  {
   "cell_type": "code",
   "execution_count": null,
   "id": "4ac2f8e6-0838-4197-953a-451444ed8c52",
   "metadata": {},
   "outputs": [],
   "source": [
    "clf.fit(data_train, eval_set=data_validate)"
   ]
  },
  {
   "cell_type": "code",
   "execution_count": null,
   "id": "1c67151b-a759-43a2-bb61-52e92af23b57",
   "metadata": {},
   "outputs": [],
   "source": [
    "ypred = clf.predict(data_test)"
   ]
  },
  {
   "cell_type": "code",
   "execution_count": null,
   "id": "35617645-798e-470a-ba48-86a107f2394d",
   "metadata": {},
   "outputs": [],
   "source": [
    "from sklearn.metrics import confusion_matrix\n",
    "from sklearn.metrics import f1_score\n",
    "\n",
    "M = confusion_matrix(ypred, test[target])\n",
    "M = pandas.DataFrame(\n",
    "    M,\n",
    "    columns=test[target].unique(), \n",
    "    index=test[target].unique()\n",
    ")\n",
    "M"
   ]
  },
  {
   "cell_type": "code",
   "execution_count": null,
   "id": "220bfebd-68ac-4de9-bb4b-8497f25c9fff",
   "metadata": {},
   "outputs": [],
   "source": [
    "f1_score(ypred, test[target], average=\"weighted\")"
   ]
  },
  {
   "cell_type": "code",
   "execution_count": null,
   "id": "c6134b7f-6d13-49ae-860d-71a81884a1b3",
   "metadata": {},
   "outputs": [],
   "source": []
  }
 ],
 "metadata": {
  "kernelspec": {
   "display_name": "Python 3 (ipykernel)",
   "language": "python",
   "name": "python3"
  },
  "language_info": {
   "codemirror_mode": {
    "name": "ipython",
    "version": 3
   },
   "file_extension": ".py",
   "mimetype": "text/x-python",
   "name": "python",
   "nbconvert_exporter": "python",
   "pygments_lexer": "ipython3",
   "version": "3.11.4"
  }
 },
 "nbformat": 4,
 "nbformat_minor": 5
}
