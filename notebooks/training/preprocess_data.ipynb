{
 "cells": [
  {
   "cell_type": "markdown",
   "id": "86292973-c761-4b53-b753-2357f43eeeac",
   "metadata": {},
   "source": [
    "# Basic Training Notebook"
   ]
  },
  {
   "cell_type": "code",
   "execution_count": null,
   "id": "9b4ada99-833c-4c88-bf9e-e98d94e93e34",
   "metadata": {},
   "outputs": [],
   "source": [
    "import os\n",
    "import pandas\n",
    "import mlflow\n",
    "from pathlib import Path"
   ]
  },
  {
   "cell_type": "code",
   "execution_count": null,
   "id": "f3b6b9f9-cc3a-4ba9-a6a0-75ac82601930",
   "metadata": {},
   "outputs": [],
   "source": [
    "video_transcript = Path(os.environ[\"DATA_DIR\"]) / \"storage\" / \"video_transcript\"\n",
    "\n",
    "X = []\n",
    "for file in os.listdir(video_transcript):\n",
    "    X.append(\n",
    "        pandas.read_parquet(video_transcript / file)\n",
    "    )\n",
    "X = pandas.concat(X, axis=0)\n",
    "\n",
    "stock_prices = Path(os.environ[\"DATA_DIR\"]) / \"storage\" / \"stock_prices\"\n",
    "\n",
    "y = []\n",
    "for file in os.listdir(stock_prices):\n",
    "    y.append(\n",
    "        pandas.read_parquet(stock_prices / file)\n",
    "    )\n",
    "y = pandas.concat(y, axis=0)"
   ]
  },
  {
   "cell_type": "code",
   "execution_count": null,
   "id": "00b3f5e8-8e49-4c90-b0d2-dad0da0ccf54",
   "metadata": {},
   "outputs": [],
   "source": [
    "X = X[~X[\"transcript\"].fillna(\"Exception\").str.startswith(\"Exception\")]\n",
    "X.head()"
   ]
  },
  {
   "cell_type": "code",
   "execution_count": null,
   "id": "b33ad7cd-c240-483a-b57a-b5f985ca1dac",
   "metadata": {},
   "outputs": [],
   "source": []
  }
 ],
 "metadata": {
  "kernelspec": {
   "display_name": "Python 3 (ipykernel)",
   "language": "python",
   "name": "python3"
  },
  "language_info": {
   "codemirror_mode": {
    "name": "ipython",
    "version": 3
   },
   "file_extension": ".py",
   "mimetype": "text/x-python",
   "name": "python",
   "nbconvert_exporter": "python",
   "pygments_lexer": "ipython3",
   "version": "3.11.4"
  }
 },
 "nbformat": 4,
 "nbformat_minor": 5
}
